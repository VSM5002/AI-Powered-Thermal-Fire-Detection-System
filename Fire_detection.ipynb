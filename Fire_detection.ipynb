{
 "cells": [
  {
   "cell_type": "markdown",
   "id": "0c78fdad",
   "metadata": {},
   "source": [
    "# Fire Detection with ResNet-18\n",
    "Train and evaluate a fire/non-fire classifier using PyTorch and ResNet-18."
   ]
  },
  {
   "cell_type": "code",
   "execution_count": null,
   "id": "e06cd06f",
   "metadata": {},
   "outputs": [],
   "source": [
    "import kagglehub\n",
    "\n",
    "# Download latest version\n",
    "path = kagglehub.dataset_download(\"tharakan684/urecamain\")\n",
    "\n",
    "print(\"Path to dataset files:\", path)"
   ]
  },
  {
   "cell_type": "code",
   "execution_count": null,
   "id": "3fe7181b",
   "metadata": {},
   "outputs": [],
   "source": [
    "import os\n",
    "\n",
    "# List files and folders in the dataset directory\n",
    "files = os.listdir(path)\n",
    "print(\"Files and folders in dataset root:\")\n",
    "for f in files:\n",
    "    print(f)\n",
    "\n",
    "# Print all folders and subfolders recursively\n",
    "print(\"\\nAll folders and subfolders:\")\n",
    "for root, dirs, files in os.walk(path):\n",
    "    print(f\"Folder: {root}\")\n",
    "    for d in dirs:\n",
    "        print(f\"  Subfolder: {d}\")"
   ]
  },
  {
   "cell_type": "code",
   "execution_count": null,
   "id": "cbe229a4",
   "metadata": {},
   "outputs": [],
   "source": [
    "# 1. Imports and device setup\n",
    "import torch\n",
    "import torch.nn as nn\n",
    "import torch.optim as optim\n",
    "from torchvision import datasets, transforms, models\n",
    "from torch.utils.data import DataLoader\n",
    "from sklearn.metrics import accuracy_score, precision_score, recall_score, f1_score\n",
    "from PIL import Image\n",
    "\n",
    "device = torch.device(\"cuda\" if torch.cuda.is_available() else \"cpu\")"
   ]
  },
  {
   "cell_type": "code",
   "execution_count": null,
   "id": "60b9199a",
   "metadata": {},
   "outputs": [],
   "source": [
    "# 2. Data transforms\n",
    "transform = transforms.Compose([\n",
    "    transforms.Resize((224, 224)),\n",
    "    transforms.ToTensor(),\n",
    "    transforms.Normalize([0.485, 0.456, 0.406], [0.229, 0.224, 0.225])\n",
    "])"
   ]
  },
  {
   "cell_type": "code",
   "execution_count": null,
   "id": "bd8cf6da",
   "metadata": {},
   "outputs": [],
   "source": [
    "# 3. Dataset paths (update these as needed)\n",
    "# Update these based on the folder structure printed above\n",
    "train_dir = os.path.join(path, \"Train\")\n",
    "val_dir = os.path.join(path, \"Vali\")\n",
    "test_dir = os.path.join(path, \"Test\")"
   ]
  },
  {
   "cell_type": "code",
   "execution_count": null,
   "id": "7f7db04c",
   "metadata": {},
   "outputs": [],
   "source": [
    "# 4. Datasets and loaders\n",
    "train_dataset = datasets.ImageFolder(root=train_dir, transform=transform)\n",
    "val_dataset = datasets.ImageFolder(root=val_dir, transform=transform)\n",
    "test_dataset = datasets.ImageFolder(root=test_dir, transform=transform)\n",
    "\n",
    "train_loader = DataLoader(train_dataset, batch_size=32, shuffle=True)\n",
    "val_loader = DataLoader(val_dataset, batch_size=32, shuffle=False)\n",
    "test_loader = DataLoader(test_dataset, batch_size=32, shuffle=False)"
   ]
  },
  {
   "cell_type": "code",
   "execution_count": null,
   "id": "89f76a34",
   "metadata": {},
   "outputs": [],
   "source": [
    "# 5. Model setup\n",
    "model = models.resnet18(pretrained=True)\n",
    "model.fc = nn.Linear(model.fc.in_features, 2)\n",
    "model = model.to(device)\n",
    "\n",
    "criterion = nn.CrossEntropyLoss()\n",
    "optimizer = optim.Adam(model.parameters(), lr=1e-4)"
   ]
  },
  {
   "cell_type": "code",
   "execution_count": null,
   "id": "defd71c8",
   "metadata": {},
   "outputs": [],
   "source": [
    "# 6. Training loop\n",
    "num_epochs = 10\n",
    "for epoch in range(num_epochs):\n",
    "    model.train()\n",
    "    running_loss = 0.0\n",
    "    for imgs, labels in train_loader:\n",
    "        imgs, labels = imgs.to(device), labels.to(device)\n",
    "        outputs = model(imgs)\n",
    "        loss = criterion(outputs, labels)\n",
    "        optimizer.zero_grad()\n",
    "        loss.backward()\n",
    "        optimizer.step()\n",
    "        running_loss += loss.item() * imgs.size(0)\n",
    "    avg_loss = running_loss / len(train_loader.dataset)\n",
    "    print(f\"Epoch {epoch+1}/{num_epochs} - Loss: {avg_loss:.4f}\")"
   ]
  },
  {
   "cell_type": "code",
   "execution_count": null,
   "id": "3cd0d801",
   "metadata": {},
   "outputs": [],
   "source": [
    "# 7. Evaluation on test set\n",
    "model.eval()\n",
    "all_preds, all_labels = [], []\n",
    "with torch.no_grad():\n",
    "    for imgs, labels in test_loader:\n",
    "        imgs, labels = imgs.to(device), labels.to(device)\n",
    "        outputs = model(imgs)\n",
    "        preds = torch.argmax(outputs, dim=1)\n",
    "        all_preds.extend(preds.cpu().numpy())\n",
    "        all_labels.extend(labels.cpu().numpy())\n",
    "\n",
    "acc = accuracy_score(all_labels, all_preds)\n",
    "prec = precision_score(all_labels, all_preds)\n",
    "rec = recall_score(all_labels, all_preds)\n",
    "f1 = f1_score(all_labels, all_preds)\n",
    "print(f\"Test Accuracy: {acc:.4f}, Precision: {prec:.4f}, Recall: {rec:.4f}, F1: {f1:.4f}\")"
   ]
  },
  {
   "cell_type": "code",
   "execution_count": null,
   "id": "d6f0cfc8",
   "metadata": {},
   "outputs": [],
   "source": [
    "# 8. Single image prediction function\n",
    "def predict_image(img_path):\n",
    "    img = Image.open(img_path).convert(\"RGB\")\n",
    "    img = transform(img).unsqueeze(0).to(device)\n",
    "    model.eval()\n",
    "    with torch.no_grad():\n",
    "        output = model(img)\n",
    "        pred = torch.argmax(output, dim=1).item()\n",
    "    # ImageFolder assigns class 0 to 'Fire', 1 to 'Non-Fire'\n",
    "    return \"Fire\" if pred == 0 else \"Non-Fire\"\n",
    "\n",
    "# Example usage:\n",
    "# print(predict_image(os.path.join(test_dir, \"Fire/example.jpg\")))"
   ]
  }
 ],
 "metadata": {
  "kernelspec": {
   "display_name": "base",
   "language": "python",
   "name": "python3"
  },
  "language_info": {
   "codemirror_mode": {
    "name": "ipython",
    "version": 3
   },
   "file_extension": ".py",
   "mimetype": "text/x-python",
   "name": "python",
   "nbconvert_exporter": "python",
   "pygments_lexer": "ipython3",
   "version": "3.11.5"
  }
 },
 "nbformat": 4,
 "nbformat_minor": 5
}
