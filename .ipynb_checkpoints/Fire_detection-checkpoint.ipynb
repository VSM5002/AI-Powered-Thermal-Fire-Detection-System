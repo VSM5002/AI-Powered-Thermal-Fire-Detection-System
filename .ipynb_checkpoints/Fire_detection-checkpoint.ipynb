{
  "cells": [
    {
      "cell_type": "markdown",
      "metadata": {
        "id": "view-in-github",
        "colab_type": "text"
      },
      "source": [
        "<a href=\"https://colab.research.google.com/github/VSM5002/AI-Powered-Thermal-Fire-Detection-System/blob/master/.ipynb_checkpoints/Fire_detection-checkpoint.ipynb\" target=\"_parent\"><img src=\"https://colab.research.google.com/assets/colab-badge.svg\" alt=\"Open In Colab\"/></a>"
      ]
    },
    {
      "cell_type": "code",
      "source": [
        "import kagglehub\n",
        "\n",
        "# Download latest version\n",
        "path = kagglehub.dataset_download(\"deepnewbie/flir-thermal-images-dataset\")\n",
        "\n",
        "print(\"Path to dataset files:\", path)"
      ],
      "metadata": {
        "id": "jCc470izavh0",
        "outputId": "5018e9f8-834a-4fed-b6c5-a57c65c394bc",
        "colab": {
          "base_uri": "https://localhost:8080/"
        }
      },
      "id": "jCc470izavh0",
      "execution_count": null,
      "outputs": [
        {
          "output_type": "stream",
          "name": "stdout",
          "text": [
            "Downloading from https://www.kaggle.com/api/v1/datasets/download/deepnewbie/flir-thermal-images-dataset?dataset_version_number=1...\n"
          ]
        },
        {
          "output_type": "stream",
          "name": "stderr",
          "text": [
            "100%|██████████| 15.3G/15.3G [08:43<00:00, 31.3MB/s]"
          ]
        },
        {
          "output_type": "stream",
          "name": "stdout",
          "text": [
            "Extracting files...\n"
          ]
        },
        {
          "output_type": "stream",
          "name": "stderr",
          "text": [
            "\n"
          ]
        }
      ]
    },
    {
      "cell_type": "markdown",
      "source": [
        "This is to see all the folders in the dataset"
      ],
      "metadata": {
        "id": "q54PndpScFI7"
      },
      "id": "q54PndpScFI7"
    },
    {
      "cell_type": "code",
      "source": [
        "import os\n",
        "\n",
        "base_path = \"/root/.cache/kagglehub/datasets/deepnewbie/flir-thermal-images-dataset/latest\"\n",
        "for folder in os.listdir(base_path):\n",
        "    print(folder)\n"
      ],
      "metadata": {
        "id": "XPDn8CrAa_A9"
      },
      "id": "XPDn8CrAa_A9",
      "execution_count": null,
      "outputs": []
    },
    {
      "cell_type": "markdown",
      "source": [
        "Here we r going to display an image from the thermal_8_bit.\n",
        "\n",
        "thermal_8_bit refers to thermal image data that has been converted or represented in 8-bit format."
      ],
      "metadata": {
        "id": "zyL-sUigcQGc"
      },
      "id": "zyL-sUigcQGc"
    },
    {
      "cell_type": "code",
      "source": [
        "import cv2\n",
        "import matplotlib.pyplot as plt\n",
        "\n",
        "thermal_img_path = os.path.join(base_path, \"train/thermal_8_bit\")\n",
        "sample_img = os.listdir(thermal_img_path)[0]\n",
        "img = cv2.imread(os.path.join(thermal_img_path, sample_img), cv2.IMREAD_GRAYSCALE)\n",
        "\n",
        "plt.imshow(img, cmap='hot')\n",
        "plt.title(\"Sample Thermal Image\")\n",
        "plt.axis('off')\n",
        "plt.show()"
      ],
      "metadata": {
        "id": "oyQI1Bdfb_dO"
      },
      "id": "oyQI1Bdfb_dO",
      "execution_count": null,
      "outputs": []
    }
  ],
  "metadata": {
    "colab": {
      "provenance": [],
      "include_colab_link": true
    },
    "language_info": {
      "name": "python"
    },
    "kernelspec": {
      "name": "python3",
      "display_name": "Python 3"
    }
  },
  "nbformat": 4,
  "nbformat_minor": 5
}